{
 "cells": [
  {
   "cell_type": "markdown",
   "id": "632f4ce7-6e37-4242-b265-d1d2bf10b59d",
   "metadata": {},
   "source": [
    "# Pydantic\n",
    "framework to defining specialized python classes  \n",
    "classes attributes a called fields  \n",
    "specialized classe is called model  \n",
    "simple way to load data from a dic or json into a model (python class) - deserializing data  \n",
    "simple way to extract model instance data to dic or json - serializing model instance  \n",
    "validation data during deserialization  \n",
    "pydantic v2 is written in rust  \n",
    "data classes not provide deserialization and serialization, but it is fast than pydantic   \n"
   ]
  },
  {
   "cell_type": "markdown",
   "id": "1f6454d9-5a12-4ae5-9f5a-2f28bf4eb79e",
   "metadata": {},
   "source": [
    "# Dataclasses\n",
    "is a code generator, create a brand new class with all the functionality"
   ]
  },
  {
   "cell_type": "code",
   "execution_count": 2,
   "id": "9a0e6e21-5171-486a-8518-df18e927f752",
   "metadata": {},
   "outputs": [],
   "source": [
    "from dataclasses import dataclass"
   ]
  },
  {
   "cell_type": "code",
   "execution_count": 3,
   "id": "3ad86512-f06d-49e6-abdc-c11c1538559f",
   "metadata": {},
   "outputs": [],
   "source": [
    "@dataclass\n",
    "class Model:\n",
    "    language: str\n",
    "    version: str\n",
    "    year: int"
   ]
  },
  {
   "cell_type": "code",
   "execution_count": 4,
   "id": "27551c3e-a582-4eac-9a45-0e8824a87e98",
   "metadata": {},
   "outputs": [],
   "source": [
    "m_dataclass = Model(language=\"eng\", version=\"1.0\", year=2024)"
   ]
  },
  {
   "cell_type": "markdown",
   "id": "821be829-0f47-47a9-be24-c971dda9312e",
   "metadata": {},
   "source": [
    "# Pydantic"
   ]
  },
  {
   "cell_type": "code",
   "execution_count": 5,
   "id": "fa86d39e-22ea-433d-b41a-5f10a87e916d",
   "metadata": {},
   "outputs": [],
   "source": [
    "from pydantic import BaseModel"
   ]
  },
  {
   "cell_type": "code",
   "execution_count": 6,
   "id": "5a8f2451-f9e6-4c85-904c-710fc796bb1e",
   "metadata": {},
   "outputs": [],
   "source": [
    "class ModelPydantic(BaseModel):\n",
    "    language: str\n",
    "    version: str\n",
    "    year: int"
   ]
  },
  {
   "cell_type": "code",
   "execution_count": 7,
   "id": "779e0658-32d2-4a18-85c4-58a9dfda2260",
   "metadata": {},
   "outputs": [],
   "source": [
    "m_pydantic = ModelPydantic(language=\"eng\", version=\"1.0\", year=2024)"
   ]
  },
  {
   "cell_type": "markdown",
   "id": "32c78c9a-8386-4224-9659-051db52ce210",
   "metadata": {},
   "source": [
    "# Creating a Pydantic Model"
   ]
  },
  {
   "cell_type": "code",
   "execution_count": 19,
   "id": "085a241b-976d-4566-b233-72129d7b9805",
   "metadata": {},
   "outputs": [],
   "source": [
    "class Person(BaseModel):\n",
    "    first_name: str\n",
    "    last_name: str\n",
    "    age: int\n",
    "\n",
    "    @property\n",
    "    def full_name(self):\n",
    "        return f'{self.first_name} {self.last_name}'"
   ]
  },
  {
   "cell_type": "code",
   "execution_count": 20,
   "id": "12f6c7b9-bbda-43dc-92af-2f532fc0a6b3",
   "metadata": {},
   "outputs": [],
   "source": [
    "p = Person(first_name='Marcos', last_name='Liger', age=23)"
   ]
  },
  {
   "cell_type": "code",
   "execution_count": 21,
   "id": "cd5b5a53-f486-495f-a7eb-c95d035ec0f2",
   "metadata": {},
   "outputs": [
    {
     "data": {
      "text/plain": [
       "\"first_name='Marcos' last_name='Liger' age=23\""
      ]
     },
     "execution_count": 21,
     "metadata": {},
     "output_type": "execute_result"
    }
   ],
   "source": [
    "str(p)"
   ]
  },
  {
   "cell_type": "code",
   "execution_count": 22,
   "id": "48165bfe-7b7e-4a0a-bd6c-5b6d39f3c0db",
   "metadata": {},
   "outputs": [
    {
     "data": {
      "text/plain": [
       "\"Person(first_name='Marcos', last_name='Liger', age=23)\""
      ]
     },
     "execution_count": 22,
     "metadata": {},
     "output_type": "execute_result"
    }
   ],
   "source": [
    "repr(p)"
   ]
  },
  {
   "cell_type": "code",
   "execution_count": 23,
   "id": "686e9d35-bade-442f-a4a2-7e54d5db67f7",
   "metadata": {},
   "outputs": [
    {
     "data": {
      "text/plain": [
       "{'first_name': FieldInfo(annotation=str, required=True),\n",
       " 'last_name': FieldInfo(annotation=str, required=True),\n",
       " 'age': FieldInfo(annotation=int, required=True)}"
      ]
     },
     "execution_count": 23,
     "metadata": {},
     "output_type": "execute_result"
    }
   ],
   "source": [
    "p.model_fields"
   ]
  },
  {
   "cell_type": "code",
   "execution_count": 24,
   "id": "46897bff-ef1c-4599-9d7a-f5c5dea0fb23",
   "metadata": {},
   "outputs": [
    {
     "data": {
      "text/plain": [
       "'Marcos Liger'"
      ]
     },
     "execution_count": 24,
     "metadata": {},
     "output_type": "execute_result"
    }
   ],
   "source": [
    "p.full_name"
   ]
  },
  {
   "cell_type": "markdown",
   "id": "eeedd942-8468-4057-9e2b-d2e1d5fb591f",
   "metadata": {},
   "source": [
    "### By default pydantic not validate when change a field"
   ]
  },
  {
   "cell_type": "code",
   "execution_count": 25,
   "id": "da2d25e7-0d19-40aa-8f72-7ca2e77a5423",
   "metadata": {},
   "outputs": [],
   "source": [
    "p.age = 'asdf'"
   ]
  },
  {
   "cell_type": "code",
   "execution_count": 26,
   "id": "18e4aaa4-144e-4b3c-b240-5219cd13585f",
   "metadata": {},
   "outputs": [
    {
     "data": {
      "text/plain": [
       "Person(first_name='Marcos', last_name='Liger', age='asdf')"
      ]
     },
     "execution_count": 26,
     "metadata": {},
     "output_type": "execute_result"
    }
   ],
   "source": [
    "p"
   ]
  },
  {
   "cell_type": "code",
   "execution_count": null,
   "id": "589b2ddf-6a7d-4286-a85b-7e0d347fb36d",
   "metadata": {},
   "outputs": [],
   "source": []
  }
 ],
 "metadata": {
  "kernelspec": {
   "display_name": "Python 3 (ipykernel)",
   "language": "python",
   "name": "python3"
  },
  "language_info": {
   "codemirror_mode": {
    "name": "ipython",
    "version": 3
   },
   "file_extension": ".py",
   "mimetype": "text/x-python",
   "name": "python",
   "nbconvert_exporter": "python",
   "pygments_lexer": "ipython3",
   "version": "3.12.6"
  }
 },
 "nbformat": 4,
 "nbformat_minor": 5
}
