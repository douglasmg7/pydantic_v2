{
 "cells": [
  {
   "cell_type": "markdown",
   "id": "632f4ce7-6e37-4242-b265-d1d2bf10b59d",
   "metadata": {},
   "source": [
    "# pydantic\n",
    "framework to defining specialized python classes  \n",
    "classes attributes a called fields  \n",
    "specialized classe is called model  \n",
    "simple way to load data from a dic or json into a model (python class) - deserializing data  \n",
    "simple way to extract model instance data to dic or json - serializing model instance  \n",
    "validation data during deserialization  \n",
    "pydantic v2 is written in rust  \n",
    "data classes not provide deserialization and serialization, but it is fast than pydantic   \n"
   ]
  },
  {
   "cell_type": "markdown",
   "id": "1f6454d9-5a12-4ae5-9f5a-2f28bf4eb79e",
   "metadata": {},
   "source": [
    "# dataclasses\n",
    "is a code generator, create a brand new class with all the functionality"
   ]
  },
  {
   "cell_type": "code",
   "execution_count": 1,
   "id": "9a0e6e21-5171-486a-8518-df18e927f752",
   "metadata": {},
   "outputs": [],
   "source": [
    "from dataclasses import dataclass"
   ]
  },
  {
   "cell_type": "code",
   "execution_count": 2,
   "id": "3ad86512-f06d-49e6-abdc-c11c1538559f",
   "metadata": {},
   "outputs": [],
   "source": [
    "@dataclass\n",
    "class Model:\n",
    "    language: str\n",
    "    version: str\n",
    "    year: int"
   ]
  },
  {
   "cell_type": "code",
   "execution_count": 8,
   "id": "27551c3e-a582-4eac-9a45-0e8824a87e98",
   "metadata": {},
   "outputs": [],
   "source": [
    "m_dataclass = Model(language=\"eng\", version=\"1.0\", year=2024)"
   ]
  },
  {
   "cell_type": "markdown",
   "id": "821be829-0f47-47a9-be24-c971dda9312e",
   "metadata": {},
   "source": [
    "# pydantic"
   ]
  },
  {
   "cell_type": "code",
   "execution_count": 4,
   "id": "fa86d39e-22ea-433d-b41a-5f10a87e916d",
   "metadata": {},
   "outputs": [],
   "source": [
    "from pydantic import BaseModel"
   ]
  },
  {
   "cell_type": "code",
   "execution_count": 5,
   "id": "5a8f2451-f9e6-4c85-904c-710fc796bb1e",
   "metadata": {},
   "outputs": [],
   "source": [
    "class ModelPydantic(BaseModel):\n",
    "    language: str\n",
    "    version: str\n",
    "    year: int"
   ]
  },
  {
   "cell_type": "code",
   "execution_count": 7,
   "id": "779e0658-32d2-4a18-85c4-58a9dfda2260",
   "metadata": {},
   "outputs": [],
   "source": [
    "m_pydantic = ModelPydantic(language=\"eng\", version=\"1.0\", year=2024)"
   ]
  },
  {
   "cell_type": "code",
   "execution_count": null,
   "id": "9b3aa947-d42f-495b-86e5-0ae9cba5ebb4",
   "metadata": {},
   "outputs": [],
   "source": []
  }
 ],
 "metadata": {
  "kernelspec": {
   "display_name": "Python 3 (ipykernel)",
   "language": "python",
   "name": "python3"
  },
  "language_info": {
   "codemirror_mode": {
    "name": "ipython",
    "version": 3
   },
   "file_extension": ".py",
   "mimetype": "text/x-python",
   "name": "python",
   "nbconvert_exporter": "python",
   "pygments_lexer": "ipython3",
   "version": "3.12.6"
  }
 },
 "nbformat": 4,
 "nbformat_minor": 5
}
