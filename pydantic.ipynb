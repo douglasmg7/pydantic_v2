{
 "cells": [
  {
   "cell_type": "markdown",
   "id": "632f4ce7-6e37-4242-b265-d1d2bf10b59d",
   "metadata": {},
   "source": [
    "# Pydantic\n",
    "framework to defining specialized python classes  \n",
    "classes attributes a called fields  \n",
    "specialized classe is called model  \n",
    "simple way to load data from a dic or json into a model (python class) - deserializing data  \n",
    "simple way to extract model instance data to dic or json - serializing model instance  \n",
    "validation data during deserialization  \n",
    "pydantic v2 is written in rust  \n",
    "data classes not provide deserialization and serialization, but it is fast than pydantic   \n"
   ]
  },
  {
   "cell_type": "markdown",
   "id": "1f6454d9-5a12-4ae5-9f5a-2f28bf4eb79e",
   "metadata": {},
   "source": [
    "# Dataclasses\n",
    "is a code generator, create a brand new class with all the functionality"
   ]
  },
  {
   "cell_type": "code",
   "execution_count": 1,
   "id": "9a0e6e21-5171-486a-8518-df18e927f752",
   "metadata": {},
   "outputs": [],
   "source": [
    "from dataclasses import dataclass"
   ]
  },
  {
   "cell_type": "code",
   "execution_count": 2,
   "id": "3ad86512-f06d-49e6-abdc-c11c1538559f",
   "metadata": {},
   "outputs": [],
   "source": [
    "@dataclass\n",
    "class Model:\n",
    "    language: str\n",
    "    version: str\n",
    "    year: int"
   ]
  },
  {
   "cell_type": "code",
   "execution_count": 3,
   "id": "27551c3e-a582-4eac-9a45-0e8824a87e98",
   "metadata": {},
   "outputs": [],
   "source": [
    "m_dataclass = Model(language=\"eng\", version=\"1.0\", year=2024)"
   ]
  },
  {
   "cell_type": "markdown",
   "id": "821be829-0f47-47a9-be24-c971dda9312e",
   "metadata": {},
   "source": [
    "# Pydantic"
   ]
  },
  {
   "cell_type": "code",
   "execution_count": 4,
   "id": "fa86d39e-22ea-433d-b41a-5f10a87e916d",
   "metadata": {},
   "outputs": [],
   "source": [
    "from pydantic import BaseModel, ValidationError"
   ]
  },
  {
   "cell_type": "code",
   "execution_count": 5,
   "id": "5a8f2451-f9e6-4c85-904c-710fc796bb1e",
   "metadata": {},
   "outputs": [],
   "source": [
    "class ModelPydantic(BaseModel):\n",
    "    language: str\n",
    "    version: str\n",
    "    year: int"
   ]
  },
  {
   "cell_type": "code",
   "execution_count": 6,
   "id": "779e0658-32d2-4a18-85c4-58a9dfda2260",
   "metadata": {},
   "outputs": [],
   "source": [
    "m_pydantic = ModelPydantic(language=\"eng\", version=\"1.0\", year=2024)"
   ]
  },
  {
   "cell_type": "markdown",
   "id": "32c78c9a-8386-4224-9659-051db52ce210",
   "metadata": {},
   "source": [
    "# Creating a Pydantic Model"
   ]
  },
  {
   "cell_type": "code",
   "execution_count": 26,
   "id": "085a241b-976d-4566-b233-72129d7b9805",
   "metadata": {},
   "outputs": [],
   "source": [
    "class Person(BaseModel):\n",
    "    first_name: str\n",
    "    last_name: str\n",
    "    age: int\n",
    "\n",
    "    @property\n",
    "    def full_name(self):\n",
    "        return f'{self.first_name} {self.last_name}'"
   ]
  },
  {
   "cell_type": "code",
   "execution_count": 27,
   "id": "12f6c7b9-bbda-43dc-92af-2f532fc0a6b3",
   "metadata": {},
   "outputs": [],
   "source": [
    "p = Person(first_name='Marcos', last_name='Liger', age=23)"
   ]
  },
  {
   "cell_type": "code",
   "execution_count": 9,
   "id": "cd5b5a53-f486-495f-a7eb-c95d035ec0f2",
   "metadata": {},
   "outputs": [
    {
     "data": {
      "text/plain": [
       "\"first_name='Marcos' last_name='Liger' age=23\""
      ]
     },
     "execution_count": 9,
     "metadata": {},
     "output_type": "execute_result"
    }
   ],
   "source": [
    "str(p)"
   ]
  },
  {
   "cell_type": "code",
   "execution_count": 10,
   "id": "48165bfe-7b7e-4a0a-bd6c-5b6d39f3c0db",
   "metadata": {},
   "outputs": [
    {
     "data": {
      "text/plain": [
       "\"Person(first_name='Marcos', last_name='Liger', age=23)\""
      ]
     },
     "execution_count": 10,
     "metadata": {},
     "output_type": "execute_result"
    }
   ],
   "source": [
    "repr(p)"
   ]
  },
  {
   "cell_type": "code",
   "execution_count": 11,
   "id": "686e9d35-bade-442f-a4a2-7e54d5db67f7",
   "metadata": {},
   "outputs": [
    {
     "data": {
      "text/plain": [
       "{'first_name': FieldInfo(annotation=str, required=True),\n",
       " 'last_name': FieldInfo(annotation=str, required=True),\n",
       " 'age': FieldInfo(annotation=int, required=True)}"
      ]
     },
     "execution_count": 11,
     "metadata": {},
     "output_type": "execute_result"
    }
   ],
   "source": [
    "p.model_fields"
   ]
  },
  {
   "cell_type": "code",
   "execution_count": 12,
   "id": "46897bff-ef1c-4599-9d7a-f5c5dea0fb23",
   "metadata": {},
   "outputs": [
    {
     "data": {
      "text/plain": [
       "'Marcos Liger'"
      ]
     },
     "execution_count": 12,
     "metadata": {},
     "output_type": "execute_result"
    }
   ],
   "source": [
    "p.full_name"
   ]
  },
  {
   "cell_type": "markdown",
   "id": "eeedd942-8468-4057-9e2b-d2e1d5fb591f",
   "metadata": {},
   "source": [
    "### By default pydantic not validate when change a field"
   ]
  },
  {
   "cell_type": "code",
   "execution_count": 13,
   "id": "da2d25e7-0d19-40aa-8f72-7ca2e77a5423",
   "metadata": {},
   "outputs": [],
   "source": [
    "p.age = 'asdf'"
   ]
  },
  {
   "cell_type": "code",
   "execution_count": 14,
   "id": "18e4aaa4-144e-4b3c-b240-5219cd13585f",
   "metadata": {},
   "outputs": [
    {
     "data": {
      "text/plain": [
       "Person(first_name='Marcos', last_name='Liger', age='asdf')"
      ]
     },
     "execution_count": 14,
     "metadata": {},
     "output_type": "execute_result"
    }
   ],
   "source": [
    "p"
   ]
  },
  {
   "cell_type": "markdown",
   "id": "85152b64-1ecd-4eb7-8e5f-41c22a02b5e7",
   "metadata": {},
   "source": [
    "# Deserialization"
   ]
  },
  {
   "cell_type": "code",
   "execution_count": 15,
   "id": "012fe871-5f36-46d6-a0e1-88f28a22fdf2",
   "metadata": {},
   "outputs": [],
   "source": [
    "data = {\n",
    "    'first_name': 'Carlos',\n",
    "    'last_name': 'Magno',\n",
    "    'age': 83\n",
    "}"
   ]
  },
  {
   "cell_type": "markdown",
   "id": "a8dc2f64-5792-4fec-86d9-4999b3cb1191",
   "metadata": {},
   "source": [
    "### Not deserialization, using kwargs expand"
   ]
  },
  {
   "cell_type": "code",
   "execution_count": 16,
   "id": "9402d2e1-fe14-4d0d-b631-c84730dee357",
   "metadata": {},
   "outputs": [
    {
     "data": {
      "text/plain": [
       "Person(first_name='Carlos', last_name='Magno', age=83)"
      ]
     },
     "execution_count": 16,
     "metadata": {},
     "output_type": "execute_result"
    }
   ],
   "source": [
    "cm = Person(**data)\n",
    "cm"
   ]
  },
  {
   "cell_type": "markdown",
   "id": "c680e074-73b1-40da-8057-4bf17bc1077b",
   "metadata": {},
   "source": [
    "### Using deserialization with dic"
   ]
  },
  {
   "cell_type": "code",
   "execution_count": 17,
   "id": "24bba405-3be0-4ad8-8e8b-4ceb043cc38e",
   "metadata": {},
   "outputs": [
    {
     "data": {
      "text/plain": [
       "Person(first_name='Carlos', last_name='Magno', age=83)"
      ]
     },
     "execution_count": 17,
     "metadata": {},
     "output_type": "execute_result"
    }
   ],
   "source": [
    "cm = Person.model_validate(data)\n",
    "cm"
   ]
  },
  {
   "cell_type": "code",
   "execution_count": 18,
   "id": "340e61d0-1bae-4176-a3f2-36d9abc9ec96",
   "metadata": {},
   "outputs": [],
   "source": [
    "data_missing = {\n",
    "    'first_name': 'Carlos',\n",
    "    'last_name': 'Magno'\n",
    "}"
   ]
  },
  {
   "cell_type": "code",
   "execution_count": 19,
   "id": "7ba56756-7023-4c06-9a00-36a13c439f84",
   "metadata": {},
   "outputs": [
    {
     "name": "stdout",
     "output_type": "stream",
     "text": [
      "1 validation error for Person\n",
      "age\n",
      "  Field required [type=missing, input_value={'first_name': 'Carlos', 'last_name': 'Magno'}, input_type=dict]\n",
      "    For further information visit https://errors.pydantic.dev/2.9/v/missing\n"
     ]
    }
   ],
   "source": [
    "try:\n",
    "    cm = Person.model_validate(data_missing)\n",
    "except ValidationError as ex:\n",
    "    print(ex)"
   ]
  },
  {
   "cell_type": "markdown",
   "id": "c6e8b5f7-5e4c-4cb0-bf47-b733a52e2dad",
   "metadata": {},
   "source": [
    "### Using deserialization with json"
   ]
  },
  {
   "cell_type": "code",
   "execution_count": 20,
   "id": "3c4e59a2-3bfd-4a46-bb98-aabf5ee35663",
   "metadata": {},
   "outputs": [],
   "source": [
    "data_json = '''{\n",
    "    \"first_name\": \"Carlos\",\n",
    "    \"last_name\": \"Magno\",\n",
    "    \"age\": 83\n",
    "}'''"
   ]
  },
  {
   "cell_type": "code",
   "execution_count": 21,
   "id": "a1a94af7-56e7-4ef9-bc78-3d13219faf38",
   "metadata": {},
   "outputs": [
    {
     "data": {
      "text/plain": [
       "Person(first_name='Carlos', last_name='Magno', age=83)"
      ]
     },
     "execution_count": 21,
     "metadata": {},
     "output_type": "execute_result"
    }
   ],
   "source": [
    "cm = Person.model_validate_json(data_json)\n",
    "cm"
   ]
  },
  {
   "cell_type": "code",
   "execution_count": 30,
   "id": "37da153d-baf4-44f5-8079-fb8237e1bc42",
   "metadata": {},
   "outputs": [
    {
     "data": {
      "text/plain": [
       "{'first_name': 'Carlos', 'last_name': 'Magno', 'age': 83}"
      ]
     },
     "execution_count": 30,
     "metadata": {},
     "output_type": "execute_result"
    }
   ],
   "source": [
    "cm.__dict__"
   ]
  },
  {
   "cell_type": "markdown",
   "id": "e51b366d-b9e0-4082-b1ef-1380f6256440",
   "metadata": {},
   "source": [
    "# Serialization"
   ]
  },
  {
   "cell_type": "markdown",
   "id": "e8f81a9a-0427-4e2d-ab77-dbf2bfb86ea6",
   "metadata": {},
   "source": [
    "### Serializing to dict"
   ]
  },
  {
   "cell_type": "code",
   "execution_count": 32,
   "id": "80800d61-e00f-4471-9a63-5a7248b7c3ed",
   "metadata": {},
   "outputs": [
    {
     "data": {
      "text/plain": [
       "{'first_name': 'Carlos', 'last_name': 'Magno', 'age': 83}"
      ]
     },
     "execution_count": 32,
     "metadata": {},
     "output_type": "execute_result"
    }
   ],
   "source": [
    "cm.model_dump()"
   ]
  },
  {
   "cell_type": "code",
   "execution_count": 34,
   "id": "59209e7c-71c7-4bdc-925a-20d3132e22b4",
   "metadata": {},
   "outputs": [
    {
     "data": {
      "text/plain": [
       "dict"
      ]
     },
     "execution_count": 34,
     "metadata": {},
     "output_type": "execute_result"
    }
   ],
   "source": [
    "type(cm.model_dump())"
   ]
  },
  {
   "cell_type": "markdown",
   "id": "fef18142-30ac-4bb0-b537-de6a6bdabd15",
   "metadata": {},
   "source": [
    "### Serializing to json"
   ]
  },
  {
   "cell_type": "code",
   "execution_count": 33,
   "id": "3d3fd534-c7c4-42d6-89f6-e7bf84ae5a1f",
   "metadata": {},
   "outputs": [
    {
     "data": {
      "text/plain": [
       "'{\"first_name\":\"Carlos\",\"last_name\":\"Magno\",\"age\":83}'"
      ]
     },
     "execution_count": 33,
     "metadata": {},
     "output_type": "execute_result"
    }
   ],
   "source": [
    "cm.model_dump_json()"
   ]
  },
  {
   "cell_type": "code",
   "execution_count": 35,
   "id": "9873e0b0-180b-4352-b9e7-ac69eb245e12",
   "metadata": {},
   "outputs": [
    {
     "data": {
      "text/plain": [
       "str"
      ]
     },
     "execution_count": 35,
     "metadata": {},
     "output_type": "execute_result"
    }
   ],
   "source": [
    "type(cm.model_dump_json())"
   ]
  },
  {
   "cell_type": "code",
   "execution_count": 37,
   "id": "e29fd919-de0a-4960-953b-5a7f48f877fe",
   "metadata": {},
   "outputs": [
    {
     "data": {
      "text/plain": [
       "'{\\n  \"first_name\": \"Carlos\",\\n  \"last_name\": \"Magno\",\\n  \"age\": 83\\n}'"
      ]
     },
     "execution_count": 37,
     "metadata": {},
     "output_type": "execute_result"
    }
   ],
   "source": [
    "cm.model_dump_json(indent=2)"
   ]
  },
  {
   "cell_type": "code",
   "execution_count": 38,
   "id": "e5aa5505-1cb4-4171-b430-fc8035c1b896",
   "metadata": {},
   "outputs": [
    {
     "name": "stdout",
     "output_type": "stream",
     "text": [
      "{\n",
      "  \"first_name\": \"Carlos\",\n",
      "  \"last_name\": \"Magno\",\n",
      "  \"age\": 83\n",
      "}\n"
     ]
    }
   ],
   "source": [
    "print(cm.model_dump_json(indent=2))"
   ]
  },
  {
   "cell_type": "markdown",
   "id": "3369d0f9-93c9-41b5-ac34-57fab544736f",
   "metadata": {},
   "source": [
    "### Exclude or include some fields"
   ]
  },
  {
   "cell_type": "markdown",
   "id": "4c8fc94b-e430-4de7-ac37-253de842c43c",
   "metadata": {},
   "source": [
    "### Exclude or Include some fields"
   ]
  },
  {
   "cell_type": "code",
   "execution_count": 39,
   "id": "a850902e-89b2-4112-bcbb-96e493d98fc5",
   "metadata": {},
   "outputs": [
    {
     "data": {
      "text/plain": [
       "{'last_name': 'Magno', 'age': 83}"
      ]
     },
     "execution_count": 39,
     "metadata": {},
     "output_type": "execute_result"
    }
   ],
   "source": [
    "cm.model_dump(exclude=['first_name'])"
   ]
  },
  {
   "cell_type": "code",
   "execution_count": 40,
   "id": "ccff3c9d-76b8-4409-bf34-aac1425cab69",
   "metadata": {},
   "outputs": [
    {
     "data": {
      "text/plain": [
       "{'first_name': 'Carlos'}"
      ]
     },
     "execution_count": 40,
     "metadata": {},
     "output_type": "execute_result"
    }
   ],
   "source": [
    "cm.model_dump(include=['first_name'])"
   ]
  },
  {
   "cell_type": "code",
   "execution_count": null,
   "id": "fc56e40d-f26f-40ea-8463-482e51f5cc29",
   "metadata": {},
   "outputs": [],
   "source": []
  }
 ],
 "metadata": {
  "kernelspec": {
   "display_name": "Python 3 (ipykernel)",
   "language": "python",
   "name": "python3"
  },
  "language_info": {
   "codemirror_mode": {
    "name": "ipython",
    "version": 3
   },
   "file_extension": ".py",
   "mimetype": "text/x-python",
   "name": "python",
   "nbconvert_exporter": "python",
   "pygments_lexer": "ipython3",
   "version": "3.12.4"
  }
 },
 "nbformat": 4,
 "nbformat_minor": 5
}
